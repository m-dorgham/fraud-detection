{
 "cells": [
  {
   "cell_type": "markdown",
   "metadata": {
    "papermill": {
     "duration": 0.014801,
     "end_time": "2020-08-26T18:46:49.902629",
     "exception": false,
     "start_time": "2020-08-26T18:46:49.887828",
     "status": "completed"
    },
    "tags": []
   },
   "source": [
    "# Fraud Detection - Comparison of Different Techniques"
   ]
  },
  {
   "cell_type": "markdown",
   "metadata": {
    "papermill": {
     "duration": 0.012372,
     "end_time": "2020-08-26T18:46:49.928057",
     "exception": false,
     "start_time": "2020-08-26T18:46:49.915685",
     "status": "completed"
    },
    "tags": []
   },
   "source": [
    "In this notebook, I explore and experiment with different methods for anomaly detection. I plan to explore at least one method in each learning paradigm, namely, supervised, unsupervised, and semi-supervised learning. In supervised learning I will test a simple linear classifier (**logistic regression**) with the traditional technique of downsampling to handle data imbalance. In unsupervised learning, I will test **autoencoders**, and **deep one-class classification**. In semi-supervised learning, I will test a recent method called **Deep Semi-supervised Anomaly Detection** (Deep SAD) which is an extension of deep one-class classification. More details about these methods will follow. \n",
    "\n",
    "Note that this notebook is not meant to be an extensive research of all state-of-the-art methods in anomaly detection, nor it is meant to give a statement about the best method for fraud detection problem. My aim is to explore some different techniques to gain understanding of these methods and of the fraud detection problem in general, and also to have fun."
   ]
  },
  {
   "cell_type": "markdown",
   "metadata": {
    "papermill": {
     "duration": 0.012272,
     "end_time": "2020-08-26T18:46:49.954547",
     "exception": false,
     "start_time": "2020-08-26T18:46:49.942275",
     "status": "completed"
    },
    "tags": []
   },
   "source": [
    "# Dataset Analysis"
   ]
  },
  {
   "cell_type": "markdown",
   "metadata": {
    "papermill": {
     "duration": 0.012575,
     "end_time": "2020-08-26T18:46:49.979727",
     "exception": false,
     "start_time": "2020-08-26T18:46:49.967152",
     "status": "completed"
    },
    "tags": []
   },
   "source": [
    "The dataset is a collection of credit card transactions for some European cardholders, where every transaction is given a label to indicate whether it was a normal or fraud transaction. The data is provided on Kaggle by the Machine Learning Group of ULB (Université Libre de Bruxelles). \n",
    "\n",
    "First, we load the dataset and do basic analysis to understand the data we are dealing with."
   ]
  },
  {
   "cell_type": "code",
   "execution_count": 2,
   "metadata": {
    "_cell_guid": "b1076dfc-b9ad-4769-8c92-a6c4dae69d19",
    "_uuid": "8f2839f25d086af736a60e9eeb907d3b93b6e0e5",
    "execution": {
     "iopub.execute_input": "2020-08-26T18:46:50.013182Z",
     "iopub.status.busy": "2020-08-26T18:46:50.012207Z",
     "iopub.status.idle": "2020-08-26T18:46:50.020773Z",
     "shell.execute_reply": "2020-08-26T18:46:50.019710Z"
    },
    "papermill": {
     "duration": 0.02833,
     "end_time": "2020-08-26T18:46:50.020959",
     "exception": false,
     "start_time": "2020-08-26T18:46:49.992629",
     "status": "completed"
    },
    "tags": []
   },
   "outputs": [
    {
     "data": {
      "text/html": [
       "<div>\n",
       "<style scoped>\n",
       "    .dataframe tbody tr th:only-of-type {\n",
       "        vertical-align: middle;\n",
       "    }\n",
       "\n",
       "    .dataframe tbody tr th {\n",
       "        vertical-align: top;\n",
       "    }\n",
       "\n",
       "    .dataframe thead th {\n",
       "        text-align: right;\n",
       "    }\n",
       "</style>\n",
       "<table border=\"1\" class=\"dataframe\">\n",
       "  <thead>\n",
       "    <tr style=\"text-align: right;\">\n",
       "      <th></th>\n",
       "      <th>Time</th>\n",
       "      <th>V1</th>\n",
       "      <th>V2</th>\n",
       "      <th>V3</th>\n",
       "      <th>V4</th>\n",
       "      <th>V5</th>\n",
       "      <th>V6</th>\n",
       "      <th>V7</th>\n",
       "      <th>V8</th>\n",
       "      <th>V9</th>\n",
       "      <th>...</th>\n",
       "      <th>V21</th>\n",
       "      <th>V22</th>\n",
       "      <th>V23</th>\n",
       "      <th>V24</th>\n",
       "      <th>V25</th>\n",
       "      <th>V26</th>\n",
       "      <th>V27</th>\n",
       "      <th>V28</th>\n",
       "      <th>Amount</th>\n",
       "      <th>Class</th>\n",
       "    </tr>\n",
       "  </thead>\n",
       "  <tbody>\n",
       "    <tr>\n",
       "      <th>0</th>\n",
       "      <td>0.0</td>\n",
       "      <td>-1.359807</td>\n",
       "      <td>-0.072781</td>\n",
       "      <td>2.536347</td>\n",
       "      <td>1.378155</td>\n",
       "      <td>-0.338321</td>\n",
       "      <td>0.462388</td>\n",
       "      <td>0.239599</td>\n",
       "      <td>0.098698</td>\n",
       "      <td>0.363787</td>\n",
       "      <td>...</td>\n",
       "      <td>-0.018307</td>\n",
       "      <td>0.277838</td>\n",
       "      <td>-0.110474</td>\n",
       "      <td>0.066928</td>\n",
       "      <td>0.128539</td>\n",
       "      <td>-0.189115</td>\n",
       "      <td>0.133558</td>\n",
       "      <td>-0.021053</td>\n",
       "      <td>149.62</td>\n",
       "      <td>0</td>\n",
       "    </tr>\n",
       "    <tr>\n",
       "      <th>1</th>\n",
       "      <td>0.0</td>\n",
       "      <td>1.191857</td>\n",
       "      <td>0.266151</td>\n",
       "      <td>0.166480</td>\n",
       "      <td>0.448154</td>\n",
       "      <td>0.060018</td>\n",
       "      <td>-0.082361</td>\n",
       "      <td>-0.078803</td>\n",
       "      <td>0.085102</td>\n",
       "      <td>-0.255425</td>\n",
       "      <td>...</td>\n",
       "      <td>-0.225775</td>\n",
       "      <td>-0.638672</td>\n",
       "      <td>0.101288</td>\n",
       "      <td>-0.339846</td>\n",
       "      <td>0.167170</td>\n",
       "      <td>0.125895</td>\n",
       "      <td>-0.008983</td>\n",
       "      <td>0.014724</td>\n",
       "      <td>2.69</td>\n",
       "      <td>0</td>\n",
       "    </tr>\n",
       "    <tr>\n",
       "      <th>2</th>\n",
       "      <td>1.0</td>\n",
       "      <td>-1.358354</td>\n",
       "      <td>-1.340163</td>\n",
       "      <td>1.773209</td>\n",
       "      <td>0.379780</td>\n",
       "      <td>-0.503198</td>\n",
       "      <td>1.800499</td>\n",
       "      <td>0.791461</td>\n",
       "      <td>0.247676</td>\n",
       "      <td>-1.514654</td>\n",
       "      <td>...</td>\n",
       "      <td>0.247998</td>\n",
       "      <td>0.771679</td>\n",
       "      <td>0.909412</td>\n",
       "      <td>-0.689281</td>\n",
       "      <td>-0.327642</td>\n",
       "      <td>-0.139097</td>\n",
       "      <td>-0.055353</td>\n",
       "      <td>-0.059752</td>\n",
       "      <td>378.66</td>\n",
       "      <td>0</td>\n",
       "    </tr>\n",
       "    <tr>\n",
       "      <th>3</th>\n",
       "      <td>1.0</td>\n",
       "      <td>-0.966272</td>\n",
       "      <td>-0.185226</td>\n",
       "      <td>1.792993</td>\n",
       "      <td>-0.863291</td>\n",
       "      <td>-0.010309</td>\n",
       "      <td>1.247203</td>\n",
       "      <td>0.237609</td>\n",
       "      <td>0.377436</td>\n",
       "      <td>-1.387024</td>\n",
       "      <td>...</td>\n",
       "      <td>-0.108300</td>\n",
       "      <td>0.005274</td>\n",
       "      <td>-0.190321</td>\n",
       "      <td>-1.175575</td>\n",
       "      <td>0.647376</td>\n",
       "      <td>-0.221929</td>\n",
       "      <td>0.062723</td>\n",
       "      <td>0.061458</td>\n",
       "      <td>123.50</td>\n",
       "      <td>0</td>\n",
       "    </tr>\n",
       "    <tr>\n",
       "      <th>4</th>\n",
       "      <td>2.0</td>\n",
       "      <td>-1.158233</td>\n",
       "      <td>0.877737</td>\n",
       "      <td>1.548718</td>\n",
       "      <td>0.403034</td>\n",
       "      <td>-0.407193</td>\n",
       "      <td>0.095921</td>\n",
       "      <td>0.592941</td>\n",
       "      <td>-0.270533</td>\n",
       "      <td>0.817739</td>\n",
       "      <td>...</td>\n",
       "      <td>-0.009431</td>\n",
       "      <td>0.798278</td>\n",
       "      <td>-0.137458</td>\n",
       "      <td>0.141267</td>\n",
       "      <td>-0.206010</td>\n",
       "      <td>0.502292</td>\n",
       "      <td>0.219422</td>\n",
       "      <td>0.215153</td>\n",
       "      <td>69.99</td>\n",
       "      <td>0</td>\n",
       "    </tr>\n",
       "  </tbody>\n",
       "</table>\n",
       "<p>5 rows × 31 columns</p>\n",
       "</div>"
      ],
      "text/plain": [
       "   Time        V1        V2        V3        V4        V5        V6        V7  \\\n",
       "0   0.0 -1.359807 -0.072781  2.536347  1.378155 -0.338321  0.462388  0.239599   \n",
       "1   0.0  1.191857  0.266151  0.166480  0.448154  0.060018 -0.082361 -0.078803   \n",
       "2   1.0 -1.358354 -1.340163  1.773209  0.379780 -0.503198  1.800499  0.791461   \n",
       "3   1.0 -0.966272 -0.185226  1.792993 -0.863291 -0.010309  1.247203  0.237609   \n",
       "4   2.0 -1.158233  0.877737  1.548718  0.403034 -0.407193  0.095921  0.592941   \n",
       "\n",
       "         V8        V9  ...       V21       V22       V23       V24       V25  \\\n",
       "0  0.098698  0.363787  ... -0.018307  0.277838 -0.110474  0.066928  0.128539   \n",
       "1  0.085102 -0.255425  ... -0.225775 -0.638672  0.101288 -0.339846  0.167170   \n",
       "2  0.247676 -1.514654  ...  0.247998  0.771679  0.909412 -0.689281 -0.327642   \n",
       "3  0.377436 -1.387024  ... -0.108300  0.005274 -0.190321 -1.175575  0.647376   \n",
       "4 -0.270533  0.817739  ... -0.009431  0.798278 -0.137458  0.141267 -0.206010   \n",
       "\n",
       "        V26       V27       V28  Amount  Class  \n",
       "0 -0.189115  0.133558 -0.021053  149.62      0  \n",
       "1  0.125895 -0.008983  0.014724    2.69      0  \n",
       "2 -0.139097 -0.055353 -0.059752  378.66      0  \n",
       "3 -0.221929  0.062723  0.061458  123.50      0  \n",
       "4  0.502292  0.219422  0.215153   69.99      0  \n",
       "\n",
       "[5 rows x 31 columns]"
      ]
     },
     "execution_count": 2,
     "metadata": {},
     "output_type": "execute_result"
    }
   ],
   "source": [
    "import numpy as np \n",
    "import pandas as pd \n",
    "\n",
    "\n",
    "df = pd.read_csv('creditcard.zip')\n",
    "df.head()"
   ]
  },
  {
   "cell_type": "markdown",
   "metadata": {
    "papermill": {
     "duration": 0.013067,
     "end_time": "2020-08-26T18:46:52.375342",
     "exception": false,
     "start_time": "2020-08-26T18:46:52.362275",
     "status": "completed"
    },
    "tags": []
   },
   "source": [
    "We know from the dataset providers that the features 'V1' to 'V28' are the principal components obtained after applying PCA to the original data. The 'Time' feature represents the seconds elapsed between each transaction and the first transaction in the dataset. The feature 'Amount' is the transaction Amount (probably in Euros). The feature 'Class' is the label of the transaction with '1' for fraud and '0' for normal.\n",
    "\n",
    "Now let's have a look at all features to see how they are distributed."
   ]
  },
  {
   "cell_type": "code",
   "execution_count": 2,
   "metadata": {
    "execution": {
     "iopub.execute_input": "2020-08-26T18:46:52.407098Z",
     "iopub.status.busy": "2020-08-26T18:46:52.406381Z",
     "iopub.status.idle": "2020-08-26T18:46:57.481375Z",
     "shell.execute_reply": "2020-08-26T18:46:57.482060Z"
    },
    "papermill": {
     "duration": 5.093563,
     "end_time": "2020-08-26T18:46:57.482231",
     "exception": false,
     "start_time": "2020-08-26T18:46:52.388668",
     "status": "completed"
    },
    "tags": []
   },
   "outputs": [
    {
     "data": {
      "image/png": "[encoded data removed]",
      "text/plain": [
       "<Figure size 1440x1440 with 36 Axes>"
      ]
     },
     "metadata": {
      "needs_background": "light"
     },
     "output_type": "display_data"
    }
   ],
   "source": [
    "p = df.hist(figsize=(20,20))"
   ]
  },
  {
   "cell_type": "markdown",
   "metadata": {
    "papermill": {
     "duration": 0.014089,
     "end_time": "2020-08-26T18:46:57.511130",
     "exception": false,
     "start_time": "2020-08-26T18:46:57.497041",
     "status": "completed"
    },
    "tags": []
   },
   "source": [
    "We see that the features 'V1' to 'V28'  are normalized and all have mean 0. The features 'Time' and 'Amount' though are not normalized, so we normalize them manually. "
   ]
  },
  {
   "cell_type": "code",
   "execution_count": 3,
   "metadata": {
    "execution": {
     "iopub.execute_input": "2020-08-26T18:46:57.546982Z",
     "iopub.status.busy": "2020-08-26T18:46:57.546150Z",
     "iopub.status.idle": "2020-08-26T18:46:58.626076Z",
     "shell.execute_reply": "2020-08-26T18:46:58.625395Z"
    },
    "papermill": {
     "duration": 1.10107,
     "end_time": "2020-08-26T18:46:58.626202",
     "exception": false,
     "start_time": "2020-08-26T18:46:57.525132",
     "status": "completed"
    },
    "tags": []
   },
   "outputs": [],
   "source": [
    "from sklearn.preprocessing import StandardScaler\n",
    "\n",
    "df['amount_scaled'] = StandardScaler().fit_transform(df['Amount'].values.reshape(-1,1))\n",
    "df['time_scaled'] = StandardScaler().fit_transform(df['Time'].values.reshape(-1,1))\n",
    "df.drop(['Time','Amount'], axis=1, inplace=True)"
   ]
  },
  {
   "cell_type": "markdown",
   "metadata": {
    "papermill": {
     "duration": 0.013924,
     "end_time": "2020-08-26T18:46:58.654973",
     "exception": false,
     "start_time": "2020-08-26T18:46:58.641049",
     "status": "completed"
    },
    "tags": []
   },
   "source": [
    "Next, let's see more closely how the class label is distributed."
   ]
  },
  {
   "cell_type": "code",
   "execution_count": 4,
   "metadata": {
    "execution": {
     "iopub.execute_input": "2020-08-26T18:46:58.691444Z",
     "iopub.status.busy": "2020-08-26T18:46:58.690698Z",
     "iopub.status.idle": "2020-08-26T18:46:58.781391Z",
     "shell.execute_reply": "2020-08-26T18:46:58.780443Z"
    },
    "papermill": {
     "duration": 0.112481,
     "end_time": "2020-08-26T18:46:58.781577",
     "exception": false,
     "start_time": "2020-08-26T18:46:58.669096",
     "status": "completed"
    },
    "tags": []
   },
   "outputs": [
    {
     "name": "stdout",
     "output_type": "stream",
     "text": [
      "Number of fraud cases: 492, with percentage: 0.17%\n",
      "Number of normal cases: 284315, with percentage: 99.83%\n"
     ]
    }
   ],
   "source": [
    "print('Number of fraud cases: {}, with percentage: {:.2f}%'.format(len(df[df.Class==1]), (len(df[df.Class==1])*100/len(df))))\n",
    "print('Number of normal cases: {}, with percentage: {:.2f}%'.format(len(df[df.Class==0]), (len(df[df.Class==0])*100/len(df))))"
   ]
  },
  {
   "cell_type": "markdown",
   "metadata": {
    "papermill": {
     "duration": 0.014222,
     "end_time": "2020-08-26T18:46:58.810405",
     "exception": false,
     "start_time": "2020-08-26T18:46:58.796183",
     "status": "completed"
    },
    "tags": []
   },
   "source": [
    "Clearly, the dataset is highly imbalanced, which is something to be expected in this kind of problems. The way we handle this imbalance will be different in each method we use. We will come to that later.\n",
    "\n",
    "Lastly, let's check if the dataset has any missing values before we use it for training."
   ]
  },
  {
   "cell_type": "code",
   "execution_count": 5,
   "metadata": {
    "execution": {
     "iopub.execute_input": "2020-08-26T18:46:58.845199Z",
     "iopub.status.busy": "2020-08-26T18:46:58.844452Z",
     "iopub.status.idle": "2020-08-26T18:46:58.878888Z",
     "shell.execute_reply": "2020-08-26T18:46:58.877913Z"
    },
    "papermill": {
     "duration": 0.054213,
     "end_time": "2020-08-26T18:46:58.879102",
     "exception": false,
     "start_time": "2020-08-26T18:46:58.824889",
     "status": "completed"
    },
    "tags": []
   },
   "outputs": [
    {
     "name": "stdout",
     "output_type": "stream",
     "text": [
      "Number of columns with missing values:  0\n"
     ]
    }
   ],
   "source": [
    "missing_val_count_by_column = (df.isnull().sum())\n",
    "num_cols_with_missing = len(missing_val_count_by_column[missing_val_count_by_column > 0])\n",
    "print('Number of columns with missing values: ', num_cols_with_missing)"
   ]
  },
  {
   "cell_type": "markdown",
   "metadata": {
    "papermill": {
     "duration": 0.014478,
     "end_time": "2020-08-26T18:46:58.909079",
     "exception": false,
     "start_time": "2020-08-26T18:46:58.894601",
     "status": "completed"
    },
    "tags": []
   },
   "source": [
    "Good news, we don't have any missing values. So, let's begin modeling..."
   ]
  },
  {
   "cell_type": "markdown",
   "metadata": {
    "papermill": {
     "duration": 0.014999,
     "end_time": "2020-08-26T18:46:58.938561",
     "exception": false,
     "start_time": "2020-08-26T18:46:58.923562",
     "status": "completed"
    },
    "tags": []
   },
   "source": [
    "#  Supervised Learning "
   ]
  },
  {
   "cell_type": "markdown",
   "metadata": {
    "papermill": {
     "duration": 0.014234,
     "end_time": "2020-08-26T18:46:58.967482",
     "exception": false,
     "start_time": "2020-08-26T18:46:58.953248",
     "status": "completed"
    },
    "tags": []
   },
   "source": [
    "In this category, we will experiment with a logistic regression classifer. There are different ways for handling the imbalance in training data in supervised learning. One common and simple technique is resampling (downsampling, oversampling). In this notebook, I try downsampling. Maybe in later versions I will test oversampling as well. Another possible technique is giving higher weights for prediction errors in the anomalous class during training.\n",
    "\n",
    "To see the effect of imbalanced data on the performance of the classifier, we will build our first model with the whole dataset as it is, and see how much it improves after balancing the data.\n",
    "\n",
    "Before building our models, we prepare the data for usage and take out a proportion of the data for testing purposes. We will not touch the test data during the training nor use it for model selection, it will only be used for reporting the performance of the final selected model on unseen data."
   ]
  },
  {
   "cell_type": "code",
   "execution_count": 6,
   "metadata": {
    "execution": {
     "iopub.execute_input": "2020-08-26T18:46:59.009962Z",
     "iopub.status.busy": "2020-08-26T18:46:59.009141Z",
     "iopub.status.idle": "2020-08-26T18:46:59.372547Z",
     "shell.execute_reply": "2020-08-26T18:46:59.371854Z"
    },
    "papermill": {
     "duration": 0.390493,
     "end_time": "2020-08-26T18:46:59.372676",
     "exception": false,
     "start_time": "2020-08-26T18:46:58.982183",
     "status": "completed"
    },
    "tags": []
   },
   "outputs": [],
   "source": [
    "from sklearn.model_selection import train_test_split\n",
    "import random\n",
    "\n",
    "seed = 1\n",
    "random.seed(seed)\n",
    "np.random.seed(seed)\n",
    "random_state=np.random.RandomState(seed)\n",
    "\n",
    "X = df.drop('Class', axis=1)\n",
    "y = df['Class']\n",
    "X = X.values\n",
    "y = y.values\n",
    "\n",
    "idx_norm = y == 0\n",
    "idx_out = y == 1\n",
    "        \n",
    "X_train_norm, X_test_norm, y_train_norm, y_test_norm = train_test_split(X[idx_norm], y[idx_norm],\n",
    "                                                                        test_size=0.4, random_state=random_state)\n",
    "X_train_out, X_test_out, y_train_out, y_test_out = train_test_split(X[idx_out], y[idx_out],\n",
    "                                                                    test_size=0.4, random_state=random_state)\n",
    "X_train = np.concatenate((X_train_norm, X_train_out))\n",
    "y_train = np.concatenate((y_train_norm, y_train_out))\n",
    "\n",
    "X_test = np.concatenate((X_test_norm, X_test_out))\n",
    "y_test = np.concatenate((y_test_norm, y_test_out))\n"
   ]
  },
  {
   "cell_type": "markdown",
   "metadata": {
    "papermill": {
     "duration": 0.014519,
     "end_time": "2020-08-26T18:46:59.402211",
     "exception": false,
     "start_time": "2020-08-26T18:46:59.387692",
     "status": "completed"
    },
    "tags": []
   },
   "source": [
    "Now we build our unbalanced logistic regression model."
   ]
  },
  {
   "cell_type": "code",
   "execution_count": 7,
   "metadata": {
    "execution": {
     "iopub.execute_input": "2020-08-26T18:46:59.444693Z",
     "iopub.status.busy": "2020-08-26T18:46:59.443909Z",
     "iopub.status.idle": "2020-08-26T18:47:11.504593Z",
     "shell.execute_reply": "2020-08-26T18:47:11.503765Z"
    },
    "papermill": {
     "duration": 12.087791,
     "end_time": "2020-08-26T18:47:11.504740",
     "exception": false,
     "start_time": "2020-08-26T18:46:59.416949",
     "status": "completed"
    },
    "tags": []
   },
   "outputs": [
    {
     "data": {
      "text/plain": [
       "<matplotlib.legend.Legend at 0x7f3dd7cb55d0>"
      ]
     },
     "execution_count": 7,
     "metadata": {},
     "output_type": "execute_result"
    },
    {
     "data": {
      "image/png": "[encoded data removed]",
      "text/plain": [
       "<Figure size 648x504 with 1 Axes>"
      ]
     },
     "metadata": {
      "needs_background": "light"
     },
     "output_type": "display_data"
    }
   ],
   "source": [
    "from sklearn.linear_model import LogisticRegression\n",
    "from sklearn.metrics import roc_curve, auc\n",
    "import matplotlib.pyplot as plt\n",
    "\n",
    "log_reg = LogisticRegression(penalty='l1', C=10, solver='liblinear')\n",
    "log_reg.fit(X_train, y_train)\n",
    "\n",
    "log_reg_pred = log_reg.predict(X_test)\n",
    "\n",
    "fpr, tpr, thresold = roc_curve(y_test, log_reg_pred)\n",
    "roc_auc = auc(fpr, tpr)\n",
    "\n",
    "plt.figure(figsize=(9,7))\n",
    "lw = 2\n",
    "plt.plot(fpr, tpr, color='darkorange', lw=lw, label='ROC curve (AUC = %0.4f)' % roc_auc)\n",
    "plt.plot([0, 1], [0, 1], color='navy', lw=lw, linestyle='--')\n",
    "plt.xlim([0.0, 1.0])\n",
    "plt.ylim([0.0, 1.05])\n",
    "plt.xlabel('False Positive Rate')\n",
    "plt.ylabel('True Positive Rate')\n",
    "plt.title('ROC curve for imbalanced logistic regression')\n",
    "plt.legend(loc=\"lower right\")"
   ]
  },
  {
   "cell_type": "markdown",
   "metadata": {
    "papermill": {
     "duration": 0.014939,
     "end_time": "2020-08-26T18:47:11.535856",
     "exception": false,
     "start_time": "2020-08-26T18:47:11.520917",
     "status": "completed"
    },
    "tags": []
   },
   "source": [
    "We see that, to get high recall (i.e. to detect all frauds) we will have to suffer from high false positive rate (i.e. innocent and authentic cardholders being identified as frauds). \n",
    "Let's see if balancing the data by downsampling will enhance the performance of our model. We will randomly select a subsample of the non-fraud examples so that we have equivalent examples for each class."
   ]
  },
  {
   "cell_type": "code",
   "execution_count": 8,
   "metadata": {
    "execution": {
     "iopub.execute_input": "2020-08-26T18:47:11.580531Z",
     "iopub.status.busy": "2020-08-26T18:47:11.579745Z",
     "iopub.status.idle": "2020-08-26T18:47:11.821789Z",
     "shell.execute_reply": "2020-08-26T18:47:11.822469Z"
    },
    "papermill": {
     "duration": 0.271748,
     "end_time": "2020-08-26T18:47:11.822646",
     "exception": false,
     "start_time": "2020-08-26T18:47:11.550898",
     "status": "completed"
    },
    "tags": []
   },
   "outputs": [
    {
     "data": {
      "text/plain": [
       "<matplotlib.legend.Legend at 0x7f3dd3b4b590>"
      ]
     },
     "execution_count": 8,
     "metadata": {},
     "output_type": "execute_result"
    },
    {
     "data": {
      "image/png": "[encoded data removed]",
      "text/plain": [
       "<Figure size 648x504 with 1 Axes>"
      ]
     },
     "metadata": {
      "needs_background": "light"
     },
     "output_type": "display_data"
    }
   ],
   "source": [
    "from numpy.random import permutation\n",
    "\n",
    "#now we do downsampling of the normal calss data\n",
    "np.random.RandomState(seed)\n",
    "perm = permutation(len(X_train_norm))\n",
    "X_train_norm = X_train_norm[perm]\n",
    "y_train_norm = y_train_norm[perm]\n",
    "X_train_norm_downsmp = X_train_norm[:len(X_train_out)]\n",
    "y_train_norm_downsmp = y_train_norm[:len(X_train_out)]\n",
    "\n",
    "\n",
    "X_train_downsmp = np.concatenate((X_train_norm_downsmp, X_train_out))\n",
    "y_train_downsmp = np.concatenate((y_train_norm_downsmp, y_train_out))\n",
    "\n",
    "#log_reg = LogisticRegression(penalty='l1', C=10, solver='liblinear')\n",
    "log_reg.fit(X_train_downsmp, y_train_downsmp)\n",
    "\n",
    "log_reg_pred = log_reg.predict(X_test)\n",
    "\n",
    "fpr, tpr, thresold = roc_curve(y_test, log_reg_pred)\n",
    "roc_auc = auc(fpr, tpr)\n",
    "\n",
    "plt.figure(figsize=(9,7))\n",
    "lw = 2\n",
    "plt.plot(fpr, tpr, color='darkorange', lw=lw, label='ROC curve (AUC = %0.4f)' % roc_auc)\n",
    "plt.plot([0, 1], [0, 1], color='navy', lw=lw, linestyle='--')\n",
    "plt.xlim([0.0, 1.0])\n",
    "plt.ylim([0.0, 1.05])\n",
    "plt.xlabel('False Positive Rate')\n",
    "plt.ylabel('True Positive Rate')\n",
    "plt.title('ROC curve for balanced logistic regression')\n",
    "plt.legend(loc=\"lower right\")"
   ]
  },
  {
   "cell_type": "markdown",
   "metadata": {
    "papermill": {
     "duration": 0.015615,
     "end_time": "2020-08-26T18:47:11.856253",
     "exception": false,
     "start_time": "2020-08-26T18:47:11.840638",
     "status": "completed"
    },
    "tags": []
   },
   "source": [
    "That's great! downsampling introduced a significant improvement in the performance of the model. We get now an AUC=0.9201 as compared to AUC=0.8146 with the imbalanced data. I would say that's a very good performance for such a simple linear classifier (we will see later if introducing nonlinearity would help). In future versions of this notebook I will use **cross validation** and **grid search** for selecting the best model."
   ]
  },
  {
   "cell_type": "markdown",
   "metadata": {
    "papermill": {
     "duration": 0.01559,
     "end_time": "2020-08-26T18:47:11.887508",
     "exception": false,
     "start_time": "2020-08-26T18:47:11.871918",
     "status": "completed"
    },
    "tags": []
   },
   "source": [
    "# Unsupervised Learning"
   ]
  },
  {
   "cell_type": "markdown",
   "metadata": {
    "papermill": {
     "duration": 0.015547,
     "end_time": "2020-08-26T18:47:11.918732",
     "exception": false,
     "start_time": "2020-08-26T18:47:11.903185",
     "status": "completed"
    },
    "tags": []
   },
   "source": [
    "In this category, I will explore two methods, The first is autoencoders, and the second is deep one-class classification. Some people categorize these methods as semi-supervised since we usually use the data examples belonging to the normal class (hence we need labeled normal data). However, the main premise that these methods are built upon, is that they can work with unlabeled data even if this data is polluted with some anomalous examples since it is assumed that the majority of the data are normal and the anomalous examples are few (which is usually true). Therefore, these methods should extract the common factors of variation in the normal class and should not be greatly affected by the presence of some noisy outliers. We will put this assumption to test now and train these models with all the training set (normal + anomalous) and see how they perform.\n",
    "\n",
    "We begin with autoencoders. The main idea, in brief, is that the autoencoder tries to learn to reconstruct the input examples as faithful as possible, and in doing so it will learn a latent representation of the data that captures the repeated patterns in this data. After training, we present a test example to the autoencoder which tries to reconstruct it. The reconstruction error (distance between the reconstructed and original example) is computed. The anomalous test example should have high reconstruction error as compared to normal examples since it should have different latent representation. \n",
    "\n",
    "We will build a simple autoencoder consisting of two-layers encoder and two-layers decoder.\n",
    "\n"
   ]
  },
  {
   "cell_type": "code",
   "execution_count": 9,
   "metadata": {
    "execution": {
     "iopub.execute_input": "2020-08-26T18:47:11.963352Z",
     "iopub.status.busy": "2020-08-26T18:47:11.958910Z",
     "iopub.status.idle": "2020-08-26T18:47:13.157933Z",
     "shell.execute_reply": "2020-08-26T18:47:13.157145Z"
    },
    "papermill": {
     "duration": 1.223564,
     "end_time": "2020-08-26T18:47:13.158111",
     "exception": false,
     "start_time": "2020-08-26T18:47:11.934547",
     "status": "completed"
    },
    "tags": []
   },
   "outputs": [
    {
     "name": "stdout",
     "output_type": "stream",
     "text": [
      "AutoEncoder(\n",
      "  (enc_layer1): Linear(in_features=30, out_features=15, bias=True)\n",
      "  (enc_layer2): Linear(in_features=15, out_features=10, bias=True)\n",
      "  (dec_layer1): Linear(in_features=10, out_features=15, bias=True)\n",
      "  (dec_layer2): Linear(in_features=15, out_features=30, bias=True)\n",
      ")\n"
     ]
    }
   ],
   "source": [
    "import torch\n",
    "import torch.nn as nn\n",
    "import torch.nn.functional as F\n",
    "from torch.autograd import Variable\n",
    "from torch.utils.data import TensorDataset\n",
    "\n",
    "input_dim = X_train.shape[1]\n",
    "\n",
    "class AutoEncoder(nn.Module):\n",
    "    \n",
    "    def __init__(self):\n",
    "        super(AutoEncoder, self).__init__()\n",
    "        #encoder\n",
    "        self.enc_layer1 = nn.Linear(input_dim,15)\n",
    "        self.enc_layer2 = nn.Linear(15,10)\n",
    "        #Decoder\n",
    "        self.dec_layer1 = nn.Linear(10,15)\n",
    "        self.dec_layer2 = nn.Linear(15,input_dim)\n",
    "        \n",
    "        \n",
    "    def forward(self,x):\n",
    "        x = F.relu(self.enc_layer1(x))\n",
    "        x = F.relu(self.enc_layer2(x))\n",
    "        x = F.relu(self.dec_layer1(x))\n",
    "        x = F.relu(self.dec_layer2(x))\n",
    "        \n",
    "        return x\n",
    "\n",
    "ae = AutoEncoder()\n",
    "print(ae)"
   ]
  },
  {
   "cell_type": "markdown",
   "metadata": {
    "papermill": {
     "duration": 0.015928,
     "end_time": "2020-08-26T18:47:13.190679",
     "exception": false,
     "start_time": "2020-08-26T18:47:13.174751",
     "status": "completed"
    },
    "tags": []
   },
   "source": [
    "Before training let's prepare the dataset in pytorch format."
   ]
  },
  {
   "cell_type": "code",
   "execution_count": 10,
   "metadata": {
    "execution": {
     "iopub.execute_input": "2020-08-26T18:47:13.234840Z",
     "iopub.status.busy": "2020-08-26T18:47:13.233947Z",
     "iopub.status.idle": "2020-08-26T18:47:13.256498Z",
     "shell.execute_reply": "2020-08-26T18:47:13.255842Z"
    },
    "papermill": {
     "duration": 0.049458,
     "end_time": "2020-08-26T18:47:13.256622",
     "exception": false,
     "start_time": "2020-08-26T18:47:13.207164",
     "status": "completed"
    },
    "tags": []
   },
   "outputs": [],
   "source": [
    "X_train_torch = torch.from_numpy(X_train).type(torch.FloatTensor) #note that we used X_train which contains data from both classes\n",
    "y_train_torch = torch.from_numpy(y_train)\n",
    "\n",
    "X_test_torch = torch.from_numpy(X_test).type(torch.FloatTensor)\n",
    "y_test_torch = torch.from_numpy(y_test)\n",
    "\n",
    "train = TensorDataset(X_train_torch,y_train_torch)\n",
    "test = TensorDataset(X_test_torch,y_test_torch)\n",
    "\n",
    "train_dataloader = torch.utils.data.DataLoader(train,batch_size=100,shuffle=True, num_workers=3)\n",
    "test_dataloader = torch.utils.data.DataLoader(test,batch_size=50,shuffle=True, num_workers=3)"
   ]
  },
  {
   "cell_type": "code",
   "execution_count": 11,
   "metadata": {
    "execution": {
     "iopub.execute_input": "2020-08-26T18:47:13.299087Z",
     "iopub.status.busy": "2020-08-26T18:47:13.298243Z",
     "iopub.status.idle": "2020-08-26T18:48:09.662310Z",
     "shell.execute_reply": "2020-08-26T18:48:09.662918Z"
    },
    "papermill": {
     "duration": 56.390071,
     "end_time": "2020-08-26T18:48:09.663147",
     "exception": false,
     "start_time": "2020-08-26T18:47:13.273076",
     "status": "completed"
    },
    "tags": []
   },
   "outputs": [],
   "source": [
    "torch.manual_seed(seed)\n",
    "\n",
    "loss_func = nn.MSELoss()\n",
    "optimizer = torch.optim.Adam(ae.parameters(), lr=1e-3)\n",
    "\n",
    "epochs = 10\n",
    "\n",
    "#begin training\n",
    "for epoch in range(epochs):\n",
    "    for batch_idx, (data,target) in enumerate(train_dataloader):\n",
    "        data = torch.autograd.Variable(data)\n",
    "        optimizer.zero_grad()\n",
    "        pred = ae(data)\n",
    "        loss = loss_func(pred, data)\n",
    "        loss.backward()\n",
    "        optimizer.step()"
   ]
  },
  {
   "cell_type": "markdown",
   "metadata": {
    "papermill": {
     "duration": 0.015932,
     "end_time": "2020-08-26T18:48:09.696076",
     "exception": false,
     "start_time": "2020-08-26T18:48:09.680144",
     "status": "completed"
    },
    "tags": []
   },
   "source": [
    "Now let's evaluate the model on the test set."
   ]
  },
  {
   "cell_type": "code",
   "execution_count": 12,
   "metadata": {
    "execution": {
     "iopub.execute_input": "2020-08-26T18:48:09.743703Z",
     "iopub.status.busy": "2020-08-26T18:48:09.742261Z",
     "iopub.status.idle": "2020-08-26T18:48:15.631506Z",
     "shell.execute_reply": "2020-08-26T18:48:15.630844Z"
    },
    "papermill": {
     "duration": 5.919326,
     "end_time": "2020-08-26T18:48:15.631628",
     "exception": false,
     "start_time": "2020-08-26T18:48:09.712302",
     "status": "completed"
    },
    "tags": []
   },
   "outputs": [
    {
     "data": {
      "image/png": "[encoded data removed]",
      "text/plain": [
       "<Figure size 648x504 with 1 Axes>"
      ]
     },
     "metadata": {
      "needs_background": "light"
     },
     "output_type": "display_data"
    }
   ],
   "source": [
    "ae.eval()\n",
    "predictions = []\n",
    "for batch_idx, (data,target) in enumerate(test_dataloader):\n",
    "        data = torch.autograd.Variable(data)\n",
    "        pred = ae(data)\n",
    "        for prediction in pred:\n",
    "            predictions.append(prediction.detach().numpy())\n",
    "            \n",
    "mse = np.mean(np.power(X_test - predictions, 2), axis=1)\n",
    "\n",
    "fpr_ae, tpr_ae, thresold = roc_curve(y_test, mse)\n",
    "roc_auc_ae = auc(fpr_ae, tpr_ae)\n",
    "\n",
    "plt.figure(figsize=(9,7))\n",
    "lw = 2\n",
    "plt.plot(fpr_ae, tpr_ae, lw=lw, label='Autoencoder (AUC = %0.4f)' % roc_auc_ae)\n",
    "plt.plot([0, 1], [0, 1], color='navy', lw=lw, linestyle='--')\n",
    "plt.xlim([0.0, 1.0])\n",
    "plt.ylim([0.0, 1.05])\n",
    "plt.xlabel('False Positive Rate')\n",
    "plt.ylabel('True Positive Rate')\n",
    "plt.title('ROC curve for autoencoder')\n",
    "plt.legend(loc=\"lower right\")\n",
    "plt.show()"
   ]
  },
  {
   "cell_type": "markdown",
   "metadata": {
    "papermill": {
     "duration": 0.016352,
     "end_time": "2020-08-26T18:48:15.665062",
     "exception": false,
     "start_time": "2020-08-26T18:48:15.648710",
     "status": "completed"
    },
    "tags": []
   },
   "source": [
    "That's a very good AUC measure given that the anomalous data were included in the training data for the autoencoder. Out of criousity, let's see how much it will improve if we used a clean training data consisting only of normal examples."
   ]
  },
  {
   "cell_type": "code",
   "execution_count": 13,
   "metadata": {
    "execution": {
     "iopub.execute_input": "2020-08-26T18:48:15.720509Z",
     "iopub.status.busy": "2020-08-26T18:48:15.716936Z",
     "iopub.status.idle": "2020-08-26T18:49:19.385234Z",
     "shell.execute_reply": "2020-08-26T18:49:19.385838Z"
    },
    "papermill": {
     "duration": 63.704441,
     "end_time": "2020-08-26T18:49:19.386021",
     "exception": false,
     "start_time": "2020-08-26T18:48:15.681580",
     "status": "completed"
    },
    "tags": []
   },
   "outputs": [
    {
     "data": {
      "image/png": "[encoded data removed]",
      "text/plain": [
       "<Figure size 648x504 with 1 Axes>"
      ]
     },
     "metadata": {
      "needs_background": "light"
     },
     "output_type": "display_data"
    }
   ],
   "source": [
    "X_train_norm_torch = torch.from_numpy(X_train_norm).type(torch.FloatTensor)\n",
    "y_train_norm_torch = torch.from_numpy(y_train_norm)\n",
    "\n",
    "X_test_torch = torch.from_numpy(X_test).type(torch.FloatTensor)\n",
    "y_test_torch = torch.from_numpy(y_test)\n",
    "\n",
    "train = TensorDataset(X_train_norm_torch,y_train_norm_torch)\n",
    "test = TensorDataset(X_test_torch,y_test_torch)\n",
    "\n",
    "train_dataloader = torch.utils.data.DataLoader(train,batch_size=100,shuffle=True, num_workers=3)\n",
    "test_dataloader = torch.utils.data.DataLoader(test,batch_size=50,shuffle=True, num_workers=3)\n",
    "\n",
    "torch.manual_seed(seed)\n",
    "\n",
    "ae = AutoEncoder()\n",
    "\n",
    "loss_func = nn.MSELoss()\n",
    "optimizer = torch.optim.Adam(ae.parameters(), lr=1e-3)\n",
    "\n",
    "epochs = 10\n",
    "for epoch in range(epochs):\n",
    "    \n",
    "    for batch_idx, (data,target) in enumerate(train_dataloader):\n",
    "        data = torch.autograd.Variable(data)\n",
    "        optimizer.zero_grad()\n",
    "        pred = ae(data)\n",
    "        loss = loss_func(pred, data)\n",
    "        loss.backward()\n",
    "        optimizer.step()\n",
    "        \n",
    "        \n",
    "ae.eval()\n",
    "predictions = []\n",
    "for batch_idx, (data,target) in enumerate(test_dataloader):\n",
    "        data = torch.autograd.Variable(data)\n",
    "        pred = ae(data)\n",
    "        for prediction in pred:\n",
    "            predictions.append(prediction.detach().numpy())\n",
    "            \n",
    "mse = np.mean(np.power(X_test - predictions, 2), axis=1)\n",
    "fpr_ae, tpr_ae, thresold = roc_curve(y_test, mse)\n",
    "roc_auc_ae = auc(fpr_ae, tpr_ae)\n",
    "\n",
    "plt.figure(figsize=(9,7))\n",
    "lw = 2\n",
    "plt.plot(fpr_ae, tpr_ae, lw=lw, label='Autoencoder (AUC = %0.4f)' % roc_auc_ae)\n",
    "plt.plot([0, 1], [0, 1], color='navy', lw=lw, linestyle='--')\n",
    "plt.xlim([0.0, 1.0])\n",
    "plt.ylim([0.0, 1.05])\n",
    "plt.xlabel('False Positive Rate')\n",
    "plt.ylabel('True Positive Rate')\n",
    "plt.title('ROC curve for autoencoder')\n",
    "plt.legend(loc=\"lower right\")\n",
    "plt.show()"
   ]
  },
  {
   "cell_type": "markdown",
   "metadata": {
    "papermill": {
     "duration": 0.016869,
     "end_time": "2020-08-26T18:49:19.419799",
     "exception": false,
     "start_time": "2020-08-26T18:49:19.402930",
     "status": "completed"
    },
    "tags": []
   },
   "source": [
    "The AUC is almost the same. This means that the autoencoder is very robust to the presence of anomalous data and can be trained efficiently with noisy unlabeled data.\n",
    "\n",
    "Optimizing for the autoencoder hyperparameters will possibly improve the above results. Also, there are other variants of the autoencoder which are used in anomaly detection that I might try in the future. Examples are [variational autoencoders](https://www.semanticscholar.org/paper/Variational-Autoencoder-based-Anomaly-Detection-An-Cho/061146b1d7938d7a8dae70e3531a00fceb3c78e8), and [autoencoder ensembles](https://saketsathe.net/downloads/autoencode.pdf)."
   ]
  },
  {
   "cell_type": "markdown",
   "metadata": {
    "papermill": {
     "duration": 0.017203,
     "end_time": "2020-08-26T18:49:19.453948",
     "exception": false,
     "start_time": "2020-08-26T18:49:19.436745",
     "status": "completed"
    },
    "tags": []
   },
   "source": [
    "Next, we evaluate a method that belong to the category of one-class classification. The method is called **Deep SVDD**. It was introduced by [Ruff et al. 2018](http://proceedings.mlr.press/v80/ruff18a/ruff18a.pdf). The main idea of Deep SVDD is to transform the input points through a multilayer neural network into an enclosing hypersphere with minimal radius. Assuming the normal examples are similar, this projection of the input points extracts the common factors of variation in the normal examples, which leads to the anomalous points being projected away from the center of the sphere since they don't share the common factors of variation as the normal points. The training objective of Deep SVDD is \n",
    "\n",
    "$$\\min_W \\frac{1}{n} \\sum_{i=1}^{n} \\left \\| \\phi(x_i;W) -c \\right \\|^2,$$\n",
    "\n",
    "where $\\phi(x_i;W)$ is the neural network function (parameterized by $W$) applied to example $x_i$, and $c$ is the center of the hypersphere. There is an additional regularization term in the objective but I omitted it here for simplicity.\n",
    "\n",
    "To evaluate the anomalousness of a test example $x$, Deep SVDD uses the distance from $\\phi(x;W)$ and the center of the hypersphere as an anomaly score as follows:\n",
    "\n",
    "$$s(x) = \\left \\| \\phi(x;W) -c \\right \\| .$$"
   ]
  },
  {
   "cell_type": "markdown",
   "metadata": {
    "papermill": {
     "duration": 0.016742,
     "end_time": "2020-08-26T18:49:19.487866",
     "exception": false,
     "start_time": "2020-08-26T18:49:19.471124",
     "status": "completed"
    },
    "tags": []
   },
   "source": [
    "The source code of Deep SVDD is publicly available [here](https://github.com/lukasruff/Deep-SVDD). To save you the long training time I present here the results that I obtained. Most hyperparameter choices are left to their default values in the original code. \n",
    "\n",
    "Below I show the ROC plot for Deep SVDD trained on mixed data (normal + anomalous)."
   ]
  },
  {
   "cell_type": "markdown",
   "metadata": {
    "papermill": {
     "duration": 0.016778,
     "end_time": "2020-08-26T18:49:19.521436",
     "exception": false,
     "start_time": "2020-08-26T18:49:19.504658",
     "status": "completed"
    },
    "tags": []
   },
   "source": [
    "![](images/roc_oc_mixed.png)"
   ]
  },
  {
   "cell_type": "markdown",
   "metadata": {
    "papermill": {
     "duration": 0.01677,
     "end_time": "2020-08-26T18:49:19.555196",
     "exception": false,
     "start_time": "2020-08-26T18:49:19.538426",
     "status": "completed"
    },
    "tags": []
   },
   "source": [
    "The AUC is less than that of the autoencoder. Let's see how Deep SVDD performs when trained on clean data (normal examples only)."
   ]
  },
  {
   "cell_type": "markdown",
   "metadata": {
    "papermill": {
     "duration": 0.016868,
     "end_time": "2020-08-26T18:49:19.589111",
     "exception": false,
     "start_time": "2020-08-26T18:49:19.572243",
     "status": "completed"
    },
    "tags": []
   },
   "source": [
    "![](images/roc_oc_clean.png)"
   ]
  },
  {
   "cell_type": "markdown",
   "metadata": {
    "papermill": {
     "duration": 0.016721,
     "end_time": "2020-08-26T18:49:19.622759",
     "exception": false,
     "start_time": "2020-08-26T18:49:19.606038",
     "status": "completed"
    },
    "tags": []
   },
   "source": [
    "The AUC is improved significantly when trained on normal data alone. It seems that Deep SVDD is trying hard to fit all the training examples into the enclosing hypersphere. Or maybe if I tried to optimize the hyperparameters I would get better results than those. That could be a possible future work as well."
   ]
  },
  {
   "cell_type": "markdown",
   "metadata": {
    "papermill": {
     "duration": 0.016919,
     "end_time": "2020-08-26T18:49:19.656687",
     "exception": false,
     "start_time": "2020-08-26T18:49:19.639768",
     "status": "completed"
    },
    "tags": []
   },
   "source": [
    "# Semi-Supervised Learning"
   ]
  },
  {
   "cell_type": "markdown",
   "metadata": {
    "papermill": {
     "duration": 0.016768,
     "end_time": "2020-08-26T18:49:19.690446",
     "exception": false,
     "start_time": "2020-08-26T18:49:19.673678",
     "status": "completed"
    },
    "tags": []
   },
   "source": [
    "The method we are going to explore in this category is called **Deep SAD** (short for Deep Semi-supervised Anomaly Detection). It was proposed by [Ruff et al. 2019](https://arxiv.org/pdf/1906.02694.pdf). It is an extension of the previously discussed Deep SVDD where it incorporates the anomalous examples in the training such that the anomalous examples are projected far away from the center of the hypersphere. Assume we have $n$ unlabeled examples and $m$ labeled examples with the labels being -1 for anomalous and +1 for normal. The objective of Deep SAD is as follows:\n",
    "\n",
    "$$\\min_W \\frac{1}{n+m} \\sum_{i=1}^{n} \\left \\| \\phi(x_i;W) -c \\right \\|^2 + \\frac{\\eta}{n+m} \\sum_{j=1}^{m}\\left ( \\left \\| \\phi(\\tilde{x}_j;W) -c \\right \\|^2  \\right )^{\\tilde{y}_j},$$\n",
    "\n",
    "where $\\eta$ is a hyperparameter that controls the balance between the labeled and unlabeled data. From the above objective we see that when $\\tilde{y}_j=1$ (i.e. normal example) the optimizer minimizes the distance between the projected example and the center of the hypersphere, on the other hand, when  $\\tilde{y}_j=-1$ (i.e. anomalous example) the optimizer maximizes the distance between the projected example and the center of the hypersphere. As a result, we get a better separation between the normal and anomalous examples in the latent projection space.\n",
    "\n",
    "The source code of Deep SAD is publicly available [here](https://github.com/lukasruff/Deep-SAD-PyTorch). As in the previous section, I present here the results immediately to save you the training time. Most of the hyperparameters are left as it is in the original code. Now let's have a look at the performance of Deep SAD."
   ]
  },
  {
   "cell_type": "markdown",
   "metadata": {
    "papermill": {
     "duration": 0.016766,
     "end_time": "2020-08-26T18:49:19.723934",
     "exception": false,
     "start_time": "2020-08-26T18:49:19.707168",
     "status": "completed"
    },
    "tags": []
   },
   "source": [
    "![roc.png](images/roc_sad.png)"
   ]
  },
  {
   "cell_type": "markdown",
   "metadata": {
    "papermill": {
     "duration": 0.01669,
     "end_time": "2020-08-26T18:49:19.757498",
     "exception": false,
     "start_time": "2020-08-26T18:49:19.740808",
     "status": "completed"
    },
    "tags": []
   },
   "source": [
    "Well, as you can see, Deep SAD has much better performance than all previous methods. It has a near perfect AUC of 0.9881. In my opinion, the basic idea of Deep SAD is the most elegant of all the previously explored methods."
   ]
  },
  {
   "cell_type": "markdown",
   "metadata": {
    "papermill": {
     "duration": 0.016621,
     "end_time": "2020-08-26T18:49:19.790914",
     "exception": false,
     "start_time": "2020-08-26T18:49:19.774293",
     "status": "completed"
    },
    "tags": []
   },
   "source": [
    "# Summary"
   ]
  },
  {
   "cell_type": "markdown",
   "metadata": {
    "papermill": {
     "duration": 0.016857,
     "end_time": "2020-08-26T18:49:19.824703",
     "exception": false,
     "start_time": "2020-08-26T18:49:19.807846",
     "status": "completed"
    },
    "tags": []
   },
   "source": [
    "In this notebook, we tested four main methods, logistic regression, autoencoders, deep one-class classification, and semi-supervised deep one-class classification. We saw how the unbalanced data can affect the model performance, and we saw different techniques for handling and working around this problem. Below is a graph that combines the ROC curves of all 4 methods in one plot. "
   ]
  },
  {
   "cell_type": "markdown",
   "metadata": {
    "papermill": {
     "duration": 0.016641,
     "end_time": "2020-08-26T18:49:19.858151",
     "exception": false,
     "start_time": "2020-08-26T18:49:19.841510",
     "status": "completed"
    },
    "tags": []
   },
   "source": [
    "![roc.png](images/roc_all.png)"
   ]
  },
  {
   "cell_type": "markdown",
   "metadata": {
    "papermill": {
     "duration": 0.01661,
     "end_time": "2020-08-26T18:49:19.892186",
     "exception": false,
     "start_time": "2020-08-26T18:49:19.875576",
     "status": "completed"
    },
    "tags": []
   },
   "source": [
    "Note that for the logistic regression model I only plotted the one trained on downsampled data, and for autoencoder and Deep SVDD I only plot the models trained on normal class alone (just to simplify the plot, otherwise it would be a mess).\n",
    "\n",
    "One last word before you leave. Remember that these numbers and this ranking of the methods do not mean that this is necessarily the real ranking of these methods in general. This is only the performance of these methods on this dataset. And these numbers could even go higher if we did hyperparameter optimization for each method. But overall, we got a rough idea of how these methods perform and how they tackle the anomaly detection problem."
   ]
  }
 ],
 "metadata": {
  "kernelspec": {
   "display_name": "Python 3",
   "language": "python",
   "name": "python3"
  },
  "language_info": {
   "codemirror_mode": {
    "name": "ipython",
    "version": 3
   },
   "file_extension": ".py",
   "mimetype": "text/x-python",
   "name": "python",
   "nbconvert_exporter": "python",
   "pygments_lexer": "ipython3",
   "version": "3.7.6"
  },
  "papermill": {
   "duration": 154.644235,
   "end_time": "2020-08-26T18:49:20.019440",
   "environment_variables": {},
   "exception": null,
   "input_path": "__notebook__.ipynb",
   "output_path": "__notebook__.ipynb",
   "parameters": {},
   "start_time": "2020-08-26T18:46:45.375205",
   "version": "2.1.0"
  }
 },
 "nbformat": 4,
 "nbformat_minor": 4
}
